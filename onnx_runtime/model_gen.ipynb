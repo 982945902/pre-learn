{
 "cells": [
  {
   "cell_type": "code",
   "execution_count": 5,
   "metadata": {},
   "outputs": [
    {
     "name": "stdout",
     "output_type": "stream",
     "text": [
      "1875/1875 [==============================] - 11s 6ms/step - loss: 0.1412 - accuracy: 0.9567\n",
      "313/313 - 1s - loss: 0.0468 - accuracy: 0.9851 - 612ms/epoch - 2ms/step\n",
      "Test accuracy: 0.9850999712944031\n"
     ]
    }
   ],
   "source": [
    "import tensorflow as tf\n",
    "from tensorflow.keras import layers, models\n",
    "\n",
    "# 加载 MNIST 数据集\n",
    "mnist = tf.keras.datasets.mnist\n",
    "(x_train, y_train), (x_test, y_test) = mnist.load_data()\n",
    "\n",
    "# 对数据进行预处理\n",
    "x_train, x_test = x_train / 255.0, x_test / 255.0\n",
    "x_train = x_train.reshape(-1, 28, 28, 1)\n",
    "x_test = x_test.reshape(-1, 28, 28, 1)\n",
    "\n",
    "# 定义模型\n",
    "model = models.Sequential()\n",
    "model.add(layers.Conv2D(32, (3, 3), activation='relu', input_shape=(28, 28, 1)))\n",
    "model.add(layers.MaxPooling2D((2, 2)))\n",
    "model.add(layers.Conv2D(64, (3, 3), activation='relu'))\n",
    "model.add(layers.MaxPooling2D((2, 2)))\n",
    "model.add(layers.Conv2D(64, (3, 3), activation='relu'))\n",
    "model.add(layers.Flatten())\n",
    "model.add(layers.Dense(64, activation='relu'))\n",
    "model.add(layers.Dense(10, activation='softmax'))\n",
    "\n",
    "# 编译模型\n",
    "model.compile(optimizer='adam',\n",
    "              loss='sparse_categorical_crossentropy',\n",
    "              metrics=['accuracy'])\n",
    "\n",
    "# 训练模型\n",
    "model.fit(x_train, y_train, epochs=1)\n",
    "\n",
    "# 评估模型\n",
    "test_loss, test_acc = model.evaluate(x_test, y_test, verbose=2)\n",
    "print('Test accuracy:', test_acc)\n",
    "\n",
    "model.save('mnist.keras')\n"
   ]
  },
  {
   "cell_type": "code",
   "execution_count": null,
   "metadata": {},
   "outputs": [],
   "source": [
    "import tensorflow as tf\n",
    "from tensorflow.keras import layers, models\n",
    "\n",
    "model = models.load_model('mnist.keras')"
   ]
  },
  {
   "cell_type": "code",
   "execution_count": null,
   "metadata": {},
   "outputs": [],
   "source": [
    "# model.summary()\n",
    "\n",
    "from tensorflow.keras.utils import plot_model\n",
    "\n",
    "plot_model(model, to_file='model.png', show_shapes=True, show_layer_names=True)"
   ]
  },
  {
   "cell_type": "code",
   "execution_count": null,
   "metadata": {},
   "outputs": [],
   "source": [
    "import onnx\n",
    "import tf2onnx\n",
    "\n",
    "input_signature = [model.layers[0].input.type_spec]\n",
    "onnx_model, _ = tf2onnx.convert.from_keras(model, input_signature, opset=13)\n",
    "onnx.save(onnx_model, \"model.onnx\")"
   ]
  },
  {
   "cell_type": "code",
   "execution_count": null,
   "metadata": {},
   "outputs": [],
   "source": [
    "# x_test[0], y_test[0]\n",
    "y_test[0]\n",
    "# x_test[0].shape\n",
    "\n",
    "# type(x_test[0])\n",
    "\n",
    "# x_test[0].flatten().shape\n"
   ]
  },
  {
   "cell_type": "code",
   "execution_count": 8,
   "metadata": {},
   "outputs": [],
   "source": [
    "import onnx\n",
    "from onnxruntime.quantization import quantize_dynamic, QuantType\n",
    "\n",
    "\n",
    "quantize_dynamic('model.onnx','model.quant.onnx',weight_type=QuantType.QUInt8)\n"
   ]
  },
  {
   "cell_type": "code",
   "execution_count": 9,
   "metadata": {},
   "outputs": [
    {
     "name": "stderr",
     "output_type": "stream",
     "text": [
      "WARNING:root:Please consider pre-processing before quantization. See https://github.com/microsoft/onnxruntime-inference-examples/blob/main/quantization/image_classification/cpu/ReadMe.md \n"
     ]
    },
    {
     "name": "stdout",
     "output_type": "stream",
     "text": [
      "conv2d_input dense_1 (60000, 28, 28, 1)\n"
     ]
    },
    {
     "name": "stderr",
     "output_type": "stream",
     "text": [
      "WARNING:root:Please use QuantFormat.QDQ for activation type QInt8 and weight type QInt8. Or it will lead to bad performance on x64.\n",
      "WARNING:root:Please consider pre-processing before quantization. See https://github.com/microsoft/onnxruntime-inference-examples/blob/main/quantization/image_classification/cpu/ReadMe.md \n"
     ]
    }
   ],
   "source": [
    "from onnxruntime.quantization import quantize_static, CalibrationDataReader\n",
    "import  onnxruntime\n",
    "import numpy as np\n",
    "\n",
    "class ONNXModelCalibrator(CalibrationDataReader):\n",
    "    def __init__(self):\n",
    "        self.x_train,self.y_train = x_train, y_train\n",
    "        self.x_train = x_train\n",
    "        self.iter = 0\n",
    "        self.x_train = np.array(self.x_train, dtype=np.float32)\n",
    "\n",
    "        session = onnxruntime.InferenceSession('model.onnx', None)\n",
    "        self.input_name =  session.get_inputs()[0].name\n",
    "        self.output_name = session.get_outputs()[0].name\n",
    "\n",
    "        print(self.input_name,self.output_name,self.x_train.shape)\n",
    "        \n",
    "\n",
    "    def get_next(self):\n",
    "        if self.iter < len(self.x_train):\n",
    "            x = self.x_train[self.iter]\n",
    "            y = self.y_train[self.iter]\n",
    "            self.iter += 1\n",
    "            # return x, y\n",
    "            # print(x.dtype,y.dtype)\n",
    "            # return {self.input_name: x,self.output_name: np.array([ i == y for i in range(10)])}\n",
    "            # print(x.shape)\n",
    "            # x = x.reshape(1,28,28,1)\n",
    "            x = np.expand_dims(x,axis=0)\n",
    "            return {self.input_name: x}\n",
    "        else:\n",
    "            return None\n",
    "from onnxruntime.quantization import QuantFormat\n",
    "quantize_static('model.onnx','model.quant.onnx',ONNXModelCalibrator(),quant_format=QuantFormat.QOperator) \n",
    "\n",
    "\n",
    "#TBD https://github.com/microsoft/onnxruntime/issues/6732"
   ]
  },
  {
   "cell_type": "code",
   "execution_count": null,
   "metadata": {},
   "outputs": [],
   "source": [
    "import numpy as np\n",
    "import struct\n",
    "\n",
    "tx = x_test[0].flatten().tolist()\n",
    "tx\n",
    "\n",
    "# with open('tx.txt', 'w') as f:\n",
    "#     f.write(struct.pack('i', len(tx)))\n",
    "\n",
    "#     for value in tx:\n",
    "#         f.write(struct.pack('f', value))\n",
    "\n",
    "\n"
   ]
  },
  {
   "cell_type": "code",
   "execution_count": 1,
   "metadata": {},
   "outputs": [],
   "source": [
    "import onnx\n",
    "from onnxconverter_common import float16\n",
    "\n",
    "\n",
    "\n",
    "model = onnx.load(\"model.onnx\")\n",
    "model_fp16 = float16.convert_float_to_float16(model)\n",
    "onnx.save(model_fp16, \"model_fp16.onnx\")"
   ]
  },
  {
   "cell_type": "code",
   "execution_count": 6,
   "metadata": {},
   "outputs": [
    {
     "name": "stderr",
     "output_type": "stream",
     "text": [
      "\u001b[0;93m2024-03-11 17:31:16.932295 [W:onnxruntime:, inference_session.cc:1914 Initialize] Serializing optimized model with Graph Optimization level greater than ORT_ENABLE_EXTENDED and the NchwcTransformer enabled. The generated model may contain hardware specific optimizations, and should only be used in the same environment the model was optimized in.\u001b[m\n"
     ]
    }
   ],
   "source": [
    "import onnxruntime as rt\n",
    "\n",
    "sess_options = rt.SessionOptions()\n",
    "\n",
    "# Set graph optimization level\n",
    "sess_options.graph_optimization_level = rt.GraphOptimizationLevel.ORT_ENABLE_ALL\n",
    "\n",
    "# To enable model serialization after graph optimization set this\n",
    "sess_options.optimized_model_filepath = \"model_opt_all.onnx\"\n",
    "\n",
    "session = rt.InferenceSession(\"model.onnx\", sess_options)"
   ]
  },
  {
   "cell_type": "code",
   "execution_count": 1,
   "metadata": {},
   "outputs": [
    {
     "name": "stdout",
     "output_type": "stream",
     "text": [
      "================ Diagnostic Run torch.onnx.export version 2.0.1 ================\n",
      "verbose: False, log level: Level.ERROR\n",
      "======================= 0 NONE 0 NOTE 0 WARNING 0 ERROR ========================\n",
      "\n"
     ]
    }
   ],
   "source": [
    "import torch\n",
    "import torch.onnx\n",
    "\n",
    "# 定义自定义操作\n",
    "class CustomOp(torch.nn.Module):\n",
    "    def forward(self, input):\n",
    "        output = input * 2\n",
    "        return output\n",
    "\n",
    "# 创建模型并导出为ONNX\n",
    "model = CustomOp()\n",
    "dummy_input = torch.randn(1, 3, 224, 224)\n",
    "torch.onnx.export(model, dummy_input, \"custom_op_model.onnx\")"
   ]
  },
  {
   "cell_type": "code",
   "execution_count": 2,
   "metadata": {},
   "outputs": [
    {
     "ename": "Fail",
     "evalue": "[ONNXRuntimeError] : 1 : FAIL : Failed to load library custom_op_lib.so with error: dlopen(custom_op_lib.so, 0x0006): tried: 'custom_op_lib.so' (no such file), '/System/Volumes/Preboot/Cryptexes/OScustom_op_lib.so' (no such file), '/opt/homebrew/lib/python3.11/site-packages/onnxruntime/capi/custom_op_lib.so' (no such file), '/opt/homebrew/Cellar/python@3.11/3.11.5/Frameworks/Python.framework/Versions/3.11/Resources/Python.app/Contents/MacOS/../../../../../../../../../../../lib/custom_op_lib.so' (no such file), '/usr/lib/custom_op_lib.so' (no such file, not in dyld cache), 'custom_op_lib.so' (no such file)",
     "output_type": "error",
     "traceback": [
      "\u001b[0;31m---------------------------------------------------------------------------\u001b[0m",
      "\u001b[0;31mFail\u001b[0m                                      Traceback (most recent call last)",
      "Cell \u001b[0;32mIn[2], line 6\u001b[0m\n\u001b[1;32m      4\u001b[0m model_path \u001b[38;5;241m=\u001b[39m \u001b[38;5;124m\"\u001b[39m\u001b[38;5;124mcustom_op_model.onnx\u001b[39m\u001b[38;5;124m\"\u001b[39m\n\u001b[1;32m      5\u001b[0m sess_options \u001b[38;5;241m=\u001b[39m ort\u001b[38;5;241m.\u001b[39mSessionOptions()\n\u001b[0;32m----> 6\u001b[0m \u001b[43msess_options\u001b[49m\u001b[38;5;241;43m.\u001b[39;49m\u001b[43mregister_custom_ops_library\u001b[49m\u001b[43m(\u001b[49m\u001b[38;5;124;43m\"\u001b[39;49m\u001b[38;5;124;43mcustom_op_lib.so\u001b[39;49m\u001b[38;5;124;43m\"\u001b[39;49m\u001b[43m)\u001b[49m  \u001b[38;5;66;03m# 注册自定义操作库\u001b[39;00m\n\u001b[1;32m      7\u001b[0m session \u001b[38;5;241m=\u001b[39m ort\u001b[38;5;241m.\u001b[39mInferenceSession(model_path, sess_options)\n\u001b[1;32m      9\u001b[0m \u001b[38;5;66;03m# 执行推理\u001b[39;00m\n",
      "\u001b[0;31mFail\u001b[0m: [ONNXRuntimeError] : 1 : FAIL : Failed to load library custom_op_lib.so with error: dlopen(custom_op_lib.so, 0x0006): tried: 'custom_op_lib.so' (no such file), '/System/Volumes/Preboot/Cryptexes/OScustom_op_lib.so' (no such file), '/opt/homebrew/lib/python3.11/site-packages/onnxruntime/capi/custom_op_lib.so' (no such file), '/opt/homebrew/Cellar/python@3.11/3.11.5/Frameworks/Python.framework/Versions/3.11/Resources/Python.app/Contents/MacOS/../../../../../../../../../../../lib/custom_op_lib.so' (no such file), '/usr/lib/custom_op_lib.so' (no such file, not in dyld cache), 'custom_op_lib.so' (no such file)"
     ]
    }
   ],
   "source": [
    "import onnxruntime as ort\n",
    "\n",
    "# 加载包含自定义操作的模型\n",
    "model_path = \"custom_op_model.onnx\"\n",
    "sess_options = ort.SessionOptions()\n",
    "sess_options.register_custom_ops_library(\"custom_op_lib.so\")  # 注册自定义操作库\n",
    "session = ort.InferenceSession(model_path, sess_options)\n",
    "\n",
    "# 执行推理\n",
    "input_name = session.get_inputs()[0].name\n",
    "dummy_input = np.random.randn(1, 3, 224, 224).astype(np.float32)\n",
    "output = session.run(None, {input_name: dummy_input})"
   ]
  }
 ],
 "metadata": {
  "kernelspec": {
   "display_name": "Python 3",
   "language": "python",
   "name": "python3"
  },
  "language_info": {
   "codemirror_mode": {
    "name": "ipython",
    "version": 3
   },
   "file_extension": ".py",
   "mimetype": "text/x-python",
   "name": "python",
   "nbconvert_exporter": "python",
   "pygments_lexer": "ipython3",
   "version": "3.11.5"
  }
 },
 "nbformat": 4,
 "nbformat_minor": 2
}

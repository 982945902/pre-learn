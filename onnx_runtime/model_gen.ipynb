{
 "cells": [
  {
   "cell_type": "code",
   "execution_count": 5,
   "metadata": {},
   "outputs": [
    {
     "name": "stdout",
     "output_type": "stream",
     "text": [
      "1875/1875 [==============================] - 11s 6ms/step - loss: 0.1412 - accuracy: 0.9567\n",
      "313/313 - 1s - loss: 0.0468 - accuracy: 0.9851 - 612ms/epoch - 2ms/step\n",
      "Test accuracy: 0.9850999712944031\n"
     ]
    }
   ],
   "source": [
    "import tensorflow as tf\n",
    "from tensorflow.keras import layers, models\n",
    "\n",
    "# 加载 MNIST 数据集\n",
    "mnist = tf.keras.datasets.mnist\n",
    "(x_train, y_train), (x_test, y_test) = mnist.load_data()\n",
    "\n",
    "# 对数据进行预处理\n",
    "x_train, x_test = x_train / 255.0, x_test / 255.0\n",
    "x_train = x_train.reshape(-1, 28, 28, 1)\n",
    "x_test = x_test.reshape(-1, 28, 28, 1)\n",
    "\n",
    "# 定义模型\n",
    "model = models.Sequential()\n",
    "model.add(layers.Conv2D(32, (3, 3), activation='relu', input_shape=(28, 28, 1)))\n",
    "model.add(layers.MaxPooling2D((2, 2)))\n",
    "model.add(layers.Conv2D(64, (3, 3), activation='relu'))\n",
    "model.add(layers.MaxPooling2D((2, 2)))\n",
    "model.add(layers.Conv2D(64, (3, 3), activation='relu'))\n",
    "model.add(layers.Flatten())\n",
    "model.add(layers.Dense(64, activation='relu'))\n",
    "model.add(layers.Dense(10, activation='softmax'))\n",
    "\n",
    "# 编译模型\n",
    "model.compile(optimizer='adam',\n",
    "              loss='sparse_categorical_crossentropy',\n",
    "              metrics=['accuracy'])\n",
    "\n",
    "# 训练模型\n",
    "model.fit(x_train, y_train, epochs=1)\n",
    "\n",
    "# 评估模型\n",
    "test_loss, test_acc = model.evaluate(x_test, y_test, verbose=2)\n",
    "print('Test accuracy:', test_acc)\n",
    "\n",
    "model.save('mnist.keras')\n"
   ]
  },
  {
   "cell_type": "code",
   "execution_count": null,
   "metadata": {},
   "outputs": [],
   "source": [
    "import tensorflow as tf\n",
    "from tensorflow.keras import layers, models\n",
    "\n",
    "model = models.load_model('mnist.keras')"
   ]
  },
  {
   "cell_type": "code",
   "execution_count": null,
   "metadata": {},
   "outputs": [],
   "source": [
    "# model.summary()\n",
    "\n",
    "from tensorflow.keras.utils import plot_model\n",
    "\n",
    "plot_model(model, to_file='model.png', show_shapes=True, show_layer_names=True)"
   ]
  },
  {
   "cell_type": "code",
   "execution_count": null,
   "metadata": {},
   "outputs": [],
   "source": [
    "import onnx\n",
    "import tf2onnx\n",
    "\n",
    "input_signature = [model.layers[0].input.type_spec]\n",
    "onnx_model, _ = tf2onnx.convert.from_keras(model, input_signature, opset=13)\n",
    "onnx.save(onnx_model, \"model.onnx\")"
   ]
  },
  {
   "cell_type": "code",
   "execution_count": null,
   "metadata": {},
   "outputs": [],
   "source": [
    "# x_test[0], y_test[0]\n",
    "y_test[0]\n",
    "# x_test[0].shape\n",
    "\n",
    "# type(x_test[0])\n",
    "\n",
    "# x_test[0].flatten().shape\n"
   ]
  },
  {
   "cell_type": "code",
   "execution_count": 8,
   "metadata": {},
   "outputs": [],
   "source": [
    "import onnx\n",
    "from onnxruntime.quantization import quantize_dynamic, QuantType\n",
    "\n",
    "\n",
    "quantize_dynamic('model.onnx','model.quant.onnx',weight_type=QuantType.QUInt8)\n"
   ]
  },
  {
   "cell_type": "code",
   "execution_count": 9,
   "metadata": {},
   "outputs": [
    {
     "name": "stderr",
     "output_type": "stream",
     "text": [
      "WARNING:root:Please consider pre-processing before quantization. See https://github.com/microsoft/onnxruntime-inference-examples/blob/main/quantization/image_classification/cpu/ReadMe.md \n"
     ]
    },
    {
     "name": "stdout",
     "output_type": "stream",
     "text": [
      "conv2d_input dense_1 (60000, 28, 28, 1)\n"
     ]
    },
    {
     "name": "stderr",
     "output_type": "stream",
     "text": [
      "WARNING:root:Please use QuantFormat.QDQ for activation type QInt8 and weight type QInt8. Or it will lead to bad performance on x64.\n",
      "WARNING:root:Please consider pre-processing before quantization. See https://github.com/microsoft/onnxruntime-inference-examples/blob/main/quantization/image_classification/cpu/ReadMe.md \n"
     ]
    }
   ],
   "source": [
    "from onnxruntime.quantization import quantize_static, CalibrationDataReader\n",
    "import  onnxruntime\n",
    "import numpy as np\n",
    "\n",
    "class ONNXModelCalibrator(CalibrationDataReader):\n",
    "    def __init__(self):\n",
    "        self.x_train,self.y_train = x_train, y_train\n",
    "        self.x_train = x_train\n",
    "        self.iter = 0\n",
    "        self.x_train = np.array(self.x_train, dtype=np.float32)\n",
    "\n",
    "        session = onnxruntime.InferenceSession('model.onnx', None)\n",
    "        self.input_name =  session.get_inputs()[0].name\n",
    "        self.output_name = session.get_outputs()[0].name\n",
    "\n",
    "        print(self.input_name,self.output_name,self.x_train.shape)\n",
    "        \n",
    "\n",
    "    def get_next(self):\n",
    "        if self.iter < len(self.x_train):\n",
    "            x = self.x_train[self.iter]\n",
    "            y = self.y_train[self.iter]\n",
    "            self.iter += 1\n",
    "            # return x, y\n",
    "            # print(x.dtype,y.dtype)\n",
    "            # return {self.input_name: x,self.output_name: np.array([ i == y for i in range(10)])}\n",
    "            # print(x.shape)\n",
    "            # x = x.reshape(1,28,28,1)\n",
    "            x = np.expand_dims(x,axis=0)\n",
    "            return {self.input_name: x}\n",
    "        else:\n",
    "            return None\n",
    "from onnxruntime.quantization import QuantFormat\n",
    "quantize_static('model.onnx','model.quant.onnx',ONNXModelCalibrator(),quant_format=QuantFormat.QOperator) \n",
    "\n",
    "\n",
    "#TBD https://github.com/microsoft/onnxruntime/issues/6732"
   ]
  },
  {
   "cell_type": "code",
   "execution_count": null,
   "metadata": {},
   "outputs": [],
   "source": [
    "import numpy as np\n",
    "import struct\n",
    "\n",
    "tx = x_test[0].flatten().tolist()\n",
    "tx\n",
    "\n",
    "# with open('tx.txt', 'w') as f:\n",
    "#     f.write(struct.pack('i', len(tx)))\n",
    "\n",
    "#     for value in tx:\n",
    "#         f.write(struct.pack('f', value))\n",
    "\n",
    "\n"
   ]
  },
  {
   "cell_type": "code",
   "execution_count": 1,
   "metadata": {},
   "outputs": [],
   "source": [
    "import onnx\n",
    "from onnxconverter_common import float16\n",
    "\n",
    "\n",
    "\n",
    "model = onnx.load(\"model.onnx\")\n",
    "model_fp16 = float16.convert_float_to_float16(model)\n",
    "onnx.save(model_fp16, \"model_fp16.onnx\")"
   ]
  }
 ],
 "metadata": {
  "kernelspec": {
   "display_name": "Python 3",
   "language": "python",
   "name": "python3"
  },
  "language_info": {
   "codemirror_mode": {
    "name": "ipython",
    "version": 3
   },
   "file_extension": ".py",
   "mimetype": "text/x-python",
   "name": "python",
   "nbconvert_exporter": "python",
   "pygments_lexer": "ipython3",
   "version": "3.11.5"
  }
 },
 "nbformat": 4,
 "nbformat_minor": 2
}

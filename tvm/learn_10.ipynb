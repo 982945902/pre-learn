{
 "cells": [
  {
   "cell_type": "code",
   "execution_count": 1,
   "metadata": {},
   "outputs": [],
   "source": [
    "import tvm\n",
    "from tvm import relay\n",
    "import numpy as np\n",
    "from tvm.contrib import graph_executor"
   ]
  },
  {
   "cell_type": "code",
   "execution_count": 2,
   "metadata": {},
   "outputs": [],
   "source": [
    "n = 2\n",
    "x = relay.var(\"x\", shape=(n,), dtype='float32')\n",
    "y = relay.nn.softmax(x)\n",
    "net = relay.Function([x], y)\n",
    "\n",
    "# build and lowering\n",
    "module = tvm.IRModule.from_expr(net)"
   ]
  },
  {
   "cell_type": "code",
   "execution_count": 5,
   "metadata": {},
   "outputs": [
    {
     "data": {
      "text/plain": [
       "tvm.ir.module.IRModule"
      ]
     },
     "execution_count": 5,
     "metadata": {},
     "output_type": "execute_result"
    }
   ],
   "source": [
    "type(module)"
   ]
  },
  {
   "cell_type": "code",
   "execution_count": 6,
   "metadata": {},
   "outputs": [],
   "source": [
    "mod = relay.build(module,target='c')"
   ]
  },
  {
   "cell_type": "code",
   "execution_count": 10,
   "metadata": {},
   "outputs": [
    {
     "data": {
      "text/plain": [
       "tvm.relay.backend.executor_factory.GraphExecutorFactoryModule"
      ]
     },
     "execution_count": 10,
     "metadata": {},
     "output_type": "execute_result"
    }
   ],
   "source": [
    "type(mod)"
   ]
  },
  {
   "cell_type": "code",
   "execution_count": 11,
   "metadata": {},
   "outputs": [],
   "source": [
    "mod.export_library(\"lib.so\")"
   ]
  },
  {
   "cell_type": "code",
   "execution_count": 12,
   "metadata": {},
   "outputs": [
    {
     "data": {
      "text/plain": [
       "'{\\n  \"nodes\": [\\n    {\\n      \"op\": \"null\", \\n      \"name\": \"x\", \\n      \"inputs\": []\\n    }, \\n    {\\n      \"op\": \"tvm_op\", \\n      \"name\": \"tvmgen_default_fused_nn_softmax\", \\n      \"attrs\": {\\n        \"hash\": \"e21990ee4fa1ad16\", \\n        \"func_name\": \"tvmgen_default_fused_nn_softmax\", \\n        \"flatten_data\": \"0\", \\n        \"num_inputs\": \"1\", \\n        \"num_outputs\": \"1\"\\n      }, \\n      \"inputs\": [\\n        [\\n          0, \\n          0, \\n          0\\n        ]\\n      ]\\n    }\\n  ], \\n  \"arg_nodes\": [0], \\n  \"heads\": [\\n    [\\n      1, \\n      0, \\n      0\\n    ]\\n  ], \\n  \"attrs\": {\\n    \"dltype\": [\\n      \"list_str\", \\n      [\\n        \"float32\", \\n        \"float32\"\\n      ]\\n    ], \\n    \"device_index\": [\\n      \"list_int\", \\n      [1, 1]\\n    ], \\n    \"storage_id\": [\\n      \"list_int\", \\n      [0, 1]\\n    ], \\n    \"shape\": [\\n      \"list_shape\", \\n      [\\n        [2], \\n        [2]\\n      ]\\n    ]\\n  }, \\n  \"node_row_ptr\": [0, 1, 2]\\n}'"
      ]
     },
     "execution_count": 12,
     "metadata": {},
     "output_type": "execute_result"
    }
   ],
   "source": [
    "mod.get_graph_json()"
   ]
  },
  {
   "cell_type": "code",
   "execution_count": 13,
   "metadata": {},
   "outputs": [
    {
     "data": {
      "text/plain": [
       "{}"
      ]
     },
     "execution_count": 13,
     "metadata": {},
     "output_type": "execute_result"
    }
   ],
   "source": [
    "mod.get_params()"
   ]
  }
 ],
 "metadata": {
  "kernelspec": {
   "display_name": "Python 3",
   "language": "python",
   "name": "python3"
  },
  "language_info": {
   "codemirror_mode": {
    "name": "ipython",
    "version": 3
   },
   "file_extension": ".py",
   "mimetype": "text/x-python",
   "name": "python",
   "nbconvert_exporter": "python",
   "pygments_lexer": "ipython3",
   "version": "3.11.5"
  }
 },
 "nbformat": 4,
 "nbformat_minor": 2
}

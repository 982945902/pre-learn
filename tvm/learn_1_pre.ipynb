{
 "cells": [
  {
   "cell_type": "code",
   "execution_count": 1,
   "metadata": {},
   "outputs": [
    {
     "name": "stderr",
     "output_type": "stream",
     "text": [
      "/opt/homebrew/lib/python3.11/site-packages/torchvision/models/_utils.py:208: UserWarning: The parameter 'pretrained' is deprecated since 0.13 and may be removed in the future, please use 'weights' instead.\n",
      "  warnings.warn(\n",
      "/opt/homebrew/lib/python3.11/site-packages/torchvision/models/_utils.py:223: UserWarning: Arguments other than a weight enum or `None` for 'weights' are deprecated since 0.13 and may be removed in the future. The current behavior is equivalent to passing `weights=ResNet18_Weights.IMAGENET1K_V1`. You can also use `weights=ResNet18_Weights.DEFAULT` to get the most up-to-date weights.\n",
      "  warnings.warn(msg)\n"
     ]
    }
   ],
   "source": [
    "from torchvision import transforms\n",
    "from PIL import Image\n",
    "\n",
    "import time\n",
    "import numpy as np\n",
    "\n",
    "import torch\n",
    "import torchvision\n",
    "\n",
    "from tvm.contrib.download import download_testdata\n",
    "\n",
    "model_name = \"resnet18\"\n",
    "model = torchvision.models.__dict__[model_name](pretrained=True)\n",
    "model = model.eval()\n",
    "\n",
    "input = torch.randn(1, 3, 224, 224)\n",
    "script_module = torch.jit.trace(model, input).eval()\n",
    "\n",
    "\n",
    "image_path = download_testdata(\"https://github.com/dmlc/mxnet.js/blob/main/data/cat.png?raw=true\",\n",
    "                               \"cat.png\", module=\"data\")\n",
    "img = Image.open(image_path).resize((224, 224))\n",
    "\n",
    "transform = transforms.Compose([transforms.Resize(256),\n",
    "                                transforms.CenterCrop(224),\n",
    "                                transforms.ToTensor(),\n",
    "                                transforms.Normalize(mean=[0.485, 0.456, 0.406], std=[0.229, 0.224, 0.225]),])\n",
    "\n",
    "data = transform(img)"
   ]
  },
  {
   "cell_type": "code",
   "execution_count": 2,
   "metadata": {},
   "outputs": [
    {
     "name": "stdout",
     "output_type": "stream",
     "text": [
      "(1, 224, 224, 3)\n",
      "(1, 3, 224, 224)\n"
     ]
    }
   ],
   "source": [
    "# print(img)\n",
    "img = np.expand_dims(img, axis=0)\n",
    "print(img.shape)\n",
    "img = np.transpose(img, (0, 3, 1, 2))\n",
    "\n",
    "print(img.shape)"
   ]
  },
  {
   "cell_type": "code",
   "execution_count": 3,
   "metadata": {},
   "outputs": [],
   "source": [
    "from tvm import relay\n",
    "\n",
    "input_name = \"input0\"\n",
    "shape_list = [(input_name, img.shape)]\n",
    "\n",
    "mod,param = relay.frontend.from_pytorch(script_module, shape_list)"
   ]
  },
  {
   "cell_type": "code",
   "execution_count": null,
   "metadata": {},
   "outputs": [],
   "source": [
    "shape_list"
   ]
  },
  {
   "cell_type": "code",
   "execution_count": null,
   "metadata": {},
   "outputs": [],
   "source": [
    "mod"
   ]
  },
  {
   "cell_type": "code",
   "execution_count": null,
   "metadata": {},
   "outputs": [],
   "source": [
    "param"
   ]
  },
  {
   "cell_type": "code",
   "execution_count": 4,
   "metadata": {},
   "outputs": [
    {
     "name": "stderr",
     "output_type": "stream",
     "text": [
      "/opt/homebrew/lib/python3.11/site-packages/tvm-0.16.dev1105+g05e218c54-py3.11-macosx-13-arm64.egg/tvm/target/target.py:375: UserWarning: target_host parameter is going to be deprecated. Please pass in tvm.target.Target(target, host=target_host) instead.\n",
      "  warnings.warn(\n",
      "One or more operators have not been tuned. Please tune your model for better performance. Use DEBUG logging level to see more details.\n"
     ]
    }
   ],
   "source": [
    "import tvm \n",
    "\n",
    "target = 'llvm'\n",
    "target_host = 'llvm'\n",
    "ctx = tvm.cpu(0)\n",
    "\n",
    "with tvm.transform.PassContext(opt_level=3):\n",
    "    lib = relay.build(mod, target=target, target_host=target_host,params=param)"
   ]
  },
  {
   "cell_type": "code",
   "execution_count": null,
   "metadata": {},
   "outputs": [],
   "source": [
    "lib.__dict__"
   ]
  },
  {
   "cell_type": "code",
   "execution_count": null,
   "metadata": {},
   "outputs": [],
   "source": [
    "lib['default']"
   ]
  },
  {
   "cell_type": "code",
   "execution_count": 5,
   "metadata": {},
   "outputs": [
    {
     "name": "stdout",
     "output_type": "stream",
     "text": [
      "3.52 s ± 105 ms per loop (mean ± std. dev. of 7 runs, 1 loop each)\n"
     ]
    }
   ],
   "source": [
    "# from tvm.contrib import graph_runtime\n",
    "import tvm.contrib.graph_executor as runtime\n",
    "\n",
    "def bench_tvm():\n",
    "    for i in range(100):\n",
    "        dtype = \"float32\"\n",
    "\n",
    "        # m = graph_runtime.GraphModule(lib['default'](ctx))\n",
    "        m = runtime.GraphModule(lib['default'](ctx))\n",
    "        m.set_input(input_name, tvm.nd.array(img.astype(dtype)))\n",
    "        m.run()\n",
    "\n",
    "        _ = m.get_output(0)\n",
    "\n",
    "%timeit bench_tvm()"
   ]
  },
  {
   "cell_type": "code",
   "execution_count": null,
   "metadata": {},
   "outputs": [],
   "source": [
    "type(lib)"
   ]
  },
  {
   "cell_type": "code",
   "execution_count": null,
   "metadata": {},
   "outputs": [],
   "source": [
    "lib.export_library(\"module.so\")"
   ]
  },
  {
   "cell_type": "code",
   "execution_count": null,
   "metadata": {},
   "outputs": [],
   "source": [
    "def bench_torch():\n",
    "    for i in range(100):\n",
    "        torch_img = torch.from_numpy(img.astype(np.float32))\n",
    "        _ = model(torch_img)\n",
    "\n",
    "%timeit bench_torch()"
   ]
  },
  {
   "cell_type": "code",
   "execution_count": 6,
   "metadata": {},
   "outputs": [
    {
     "name": "stderr",
     "output_type": "stream",
     "text": [
      "/var/folders/y5/ssh5ylsd4tv7wfmm_06fmrqw0000gp/T/ipykernel_19500/2322423639.py:8: DeprecationWarning: legacy graph executor behavior of producing json / lib / params will be removed in the next release. Please see documents of tvm.contrib.graph_executor.GraphModule for the  new recommended usage.\n",
      "  graph, lib, params  = relay.build_module.build(mod, target=target, target_host=target_host,params=param)\n"
     ]
    }
   ],
   "source": [
    "import tvm \n",
    "\n",
    "target = 'llvm'\n",
    "target_host = 'llvm'\n",
    "ctx = tvm.cpu(0)\n",
    "\n",
    "with tvm.transform.PassContext(opt_level=3):\n",
    "    graph, lib, params  = relay.build_module.build(mod, target=target, target_host=target_host,params=param)"
   ]
  },
  {
   "cell_type": "code",
   "execution_count": null,
   "metadata": {},
   "outputs": [],
   "source": [
    "lib.export_library('resnet18.so')"
   ]
  },
  {
   "cell_type": "code",
   "execution_count": null,
   "metadata": {},
   "outputs": [],
   "source": [
    "with open(\"resnet18.graph\",\"w\") as f:\n",
    "    f.write(graph)"
   ]
  },
  {
   "cell_type": "code",
   "execution_count": null,
   "metadata": {},
   "outputs": [],
   "source": [
    "from tvm  import runtime\n",
    "\n",
    "with open(\"resnet18.params\",\"wb\") as f:\n",
    "    f.write(runtime.save_param_dict(params))"
   ]
  }
 ],
 "metadata": {
  "kernelspec": {
   "display_name": "Python 3 (ipykernel)",
   "language": "python",
   "name": "python3"
  },
  "language_info": {
   "codemirror_mode": {
    "name": "ipython",
    "version": 3
   },
   "file_extension": ".py",
   "mimetype": "text/x-python",
   "name": "python",
   "nbconvert_exporter": "python",
   "pygments_lexer": "ipython3",
   "version": "3.11.5"
  }
 },
 "nbformat": 4,
 "nbformat_minor": 2
}

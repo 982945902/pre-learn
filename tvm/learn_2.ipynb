{
 "cells": [
  {
   "cell_type": "code",
   "execution_count": null,
   "metadata": {},
   "outputs": [],
   "source": [
    "import tvm\n",
    "from tvm import testing\n",
    "from tvm import te\n",
    "import numpy as np\n",
    "\n",
    "target = \"llvm\"\n",
    "target_host = \"llvm\"\n",
    "\n",
    "N = te.var('n')\n",
    "A = te.placeholder((N,),name='a')\n",
    "B = te.placeholder((N,),name='b')"
   ]
  },
  {
   "cell_type": "code",
   "execution_count": null,
   "metadata": {},
   "outputs": [],
   "source": [
    "A\n",
    "A.shape\n",
    "# A.dtype"
   ]
  },
  {
   "cell_type": "code",
   "execution_count": null,
   "metadata": {},
   "outputs": [],
   "source": [
    "C = te.compute(A.shape,lambda i:A[i]+B[i],name='c')"
   ]
  },
  {
   "cell_type": "code",
   "execution_count": null,
   "metadata": {},
   "outputs": [],
   "source": [
    "type(C)\n",
    "# print(type(A),type(C))\n",
    "C.op"
   ]
  },
  {
   "cell_type": "code",
   "execution_count": null,
   "metadata": {},
   "outputs": [],
   "source": [
    "sche = te.create_schedule(C.op)\n",
    "\n",
    "bx,tx = sche[C].split(C.op.axis[0], factor=64)\n",
    "\n",
    "# sche[C].bind(bx,te.thread_axis(\"blockIdx.x\"))\n",
    "# sche[C].bind(tx,te.thread_axis(\"threadIdx.x\"))\n",
    "\n",
    "sche[C].parallel(bx)"
   ]
  },
  {
   "cell_type": "code",
   "execution_count": null,
   "metadata": {},
   "outputs": [],
   "source": [
    "tadd = tvm.build(sche,[A,B,C],target=target,target_host=target_host,name=\"tadd\")"
   ]
  },
  {
   "cell_type": "code",
   "execution_count": null,
   "metadata": {},
   "outputs": [],
   "source": [
    "type(tadd)"
   ]
  },
  {
   "cell_type": "code",
   "execution_count": null,
   "metadata": {},
   "outputs": [],
   "source": [
    "ctx = tvm.cpu(0)\n",
    "\n",
    "n = 10000"
   ]
  },
  {
   "cell_type": "code",
   "execution_count": null,
   "metadata": {},
   "outputs": [],
   "source": [
    "a = tvm.nd.array(np.random.uniform(size=n).astype(A.dtype),ctx)\n",
    "b = tvm.nd.array(np.random.uniform(size=n).astype(B.dtype),ctx)\n",
    "c = tvm.nd.array(np.zeros(n, dtype=C.dtype), ctx)\n"
   ]
  },
  {
   "cell_type": "code",
   "execution_count": null,
   "metadata": {},
   "outputs": [],
   "source": [
    "tadd(a, b, c)"
   ]
  },
  {
   "cell_type": "code",
   "execution_count": null,
   "metadata": {},
   "outputs": [],
   "source": [
    "c"
   ]
  },
  {
   "cell_type": "code",
   "execution_count": null,
   "metadata": {},
   "outputs": [],
   "source": [
    "tvm.testing.assert_allclose(c.asnumpy(), a.asnumpy() + b.asnumpy())"
   ]
  },
  {
   "cell_type": "code",
   "execution_count": null,
   "metadata": {},
   "outputs": [],
   "source": [
    "tadd.__dict__"
   ]
  },
  {
   "cell_type": "code",
   "execution_count": null,
   "metadata": {},
   "outputs": [],
   "source": [
    "# tadd.imported_modules\n",
    "\n",
    "\n",
    "tadd.get_source()"
   ]
  },
  {
   "cell_type": "code",
   "execution_count": null,
   "metadata": {},
   "outputs": [],
   "source": [
    "import tvm\n",
    "from tvm import testing\n",
    "from tvm import te\n",
    "import numpy as np\n",
    "\n",
    "N= te.var('N')\n",
    "A = te.placeholder((N,),name='A')\n",
    "B = te.reduce_axis((0,N),name='B')\n",
    "\n",
    "C = te.compute((1,),lambda i: te.sum(A[B], axis=B),name='C')\n",
    "\n",
    "s = te.create_schedule(C.op)\n",
    "\n",
    "print(type(N),type(A),type(B),type(C),type(s))\n",
    "\n",
    "tvm.lower(s, [A,C],simple_mode=True)"
   ]
  },
  {
   "cell_type": "code",
   "execution_count": null,
   "metadata": {},
   "outputs": [],
   "source": [
    "k0,k1 = s[C].split(C.op.reduce_axis[0], factor=32)\n",
    "\n",
    "tvm.lower(s,[A,C],simple_mode=True)"
   ]
  },
  {
   "cell_type": "code",
   "execution_count": null,
   "metadata": {},
   "outputs": [],
   "source": [
    "# k0,k1 = s[C].split(C.op.reduce_axis[0], factor=32)\n",
    "\n",
    "s[C].parallel(k0)\n",
    "\n",
    "tvm.lower(s,[A,C],simple_mode=True)"
   ]
  },
  {
   "cell_type": "code",
   "execution_count": null,
   "metadata": {},
   "outputs": [],
   "source": [
    "import tvm\n",
    "from tvm import testing\n",
    "from tvm import te\n",
    "import numpy as np\n",
    "\n",
    "target = \"llvm\"\n",
    "target_host = \"llvm\"\n",
    "\n",
    "N = te.var('n')\n",
    "A = te.placeholder((N,N),name='a')\n",
    "B = te.placeholder((N,N),name='b')\n",
    "\n",
    "C = te.compute((N,N),lambda i,j : A[i,j] + B[i,j],name='c')\n",
    "s = te.create_schedule(C.op)\n",
    "\n",
    "print(tvm.lower(s, [A,B,C], simple_mode=True))\n",
    "\n",
    "x1,x2 = s[C].split(C.op.axis[0], factor=4)\n",
    "y1,y2 = s[C].split(C.op.axis[1], factor=4)\n",
    "\n",
    "s[C].reorder(x1, y1,x2,y2)\n",
    "\n",
    "print(tvm.lower(s, [A,B,C], simple_mode=True))"
   ]
  },
  {
   "cell_type": "code",
   "execution_count": null,
   "metadata": {},
   "outputs": [],
   "source": [
    "import tvm\n",
    "from tvm import testing\n",
    "from tvm import te\n",
    "import numpy as np\n",
    "\n",
    "target = \"llvm\"\n",
    "target_host = \"llvm\"\n",
    "\n",
    "N = te.var('n')\n",
    "A = te.placeholder((N,N),name='a')\n",
    "B = te.placeholder((N,N),name='b')\n",
    "\n",
    "C = te.compute((N,N),lambda i,j : A[i,j] + B[i,j],name='c')\n",
    "s = te.create_schedule(C.op)\n",
    "\n",
    "print(tvm.lower(s, [A,B,C], simple_mode=True))\n",
    "\n",
    "\n",
    "print(tvm.lower(s, [A,B,C], simple_mode=True))"
   ]
  },
  {
   "cell_type": "code",
   "execution_count": null,
   "metadata": {},
   "outputs": [],
   "source": [
    "import tvm\n",
    "from tvm import testing\n",
    "from tvm import te\n",
    "import numpy as np\n",
    "\n",
    "target = \"llvm\"\n",
    "target_host = \"llvm\"\n",
    "\n",
    "N = te.var('n')\n",
    "A = te.placeholder((N,N),name='a')\n",
    "B = te.placeholder((N,N),name='b')\n",
    "\n",
    "C = te.compute((N,N),lambda i,j : A[i,j] + B[i,j],name='c')\n",
    "s = te.create_schedule(C.op)\n",
    "\n",
    "xo, yo, xi, yi = s[C].tile(C.op.axis[0], C.op.axis[1],x_factor=32, y_factor=32)\n",
    "\n",
    "print(tvm.lower(s, [A,B,C], simple_mode=True))\n",
    "\n",
    "s[C].vectorize(yi)\n",
    "\n",
    "print(tvm.lower(s, [A,B,C], simple_mode=True))"
   ]
  }
 ],
 "metadata": {
  "kernelspec": {
   "display_name": "Python 3 (ipykernel)",
   "language": "python",
   "name": "python3"
  }
 },
 "nbformat": 4,
 "nbformat_minor": 2
}

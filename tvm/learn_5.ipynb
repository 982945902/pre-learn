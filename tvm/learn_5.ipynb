{
 "cells": [
  {
   "cell_type": "code",
   "execution_count": null,
   "metadata": {},
   "outputs": [],
   "source": [
    "import tvm\n",
    "from tvm import relay"
   ]
  },
  {
   "cell_type": "code",
   "execution_count": null,
   "metadata": {},
   "outputs": [],
   "source": [
    "x = relay.var('x')\n",
    "z = relay.exp(x)\n",
    "r = relay.add(x,z)\n",
    "\n",
    "func1 = relay.Function([x], r)\n",
    "\n",
    "func1\n",
    "\n"
   ]
  },
  {
   "cell_type": "code",
   "execution_count": null,
   "metadata": {},
   "outputs": [],
   "source": [
    "import tvm.contrib.graph_runtime as runtime\n",
    "\n",
    "def batch_normal(data, gamma=None, beta=None, mean=None, var=None,**kwargs):\n",
    "    name = kwargs.get(\"name\", \"batch_norm\")\n",
    "    kwargs.pop('name')\n",
    "\n",
    "    if not gamma:\n",
    "        gamma = relay.var(name + \"gamma\")\n",
    "    if not beta:\n",
    "        beta = relay.var(name + \"_beta\")\n",
    "    if not mean:\n",
    "        mean = relay.var(name + \"_mean\")\n",
    "    if not var:\n",
    "        var = relay.var(name + \"_var\")\n",
    "\n",
    "    return relay.nn.batch_norm(data, gamma, beta, mean, var, **kwargs)[0]\n",
    "\n",
    "def conv2d(data,weight=None, **kwargs):\n",
    "    name = kwargs.get(\"name\")\n",
    "    kwargs.pop(\"name\")\n",
    "\n",
    "    if not weight:\n",
    "        weight = relay.var(name + \"_weight\")\n",
    "    \n",
    "    return relay.nn.conv2d(data, weight, **kwargs)\n",
    "\n",
    "def net(data,name,channels,kernel_size=(3,3),strides=(1,1),padding=(1,1),epsilon=1e-5):\n",
    "    conv = conv2d(data,name=name+\"_conv\",channels=channels,kernel_size=kernel_size,strides=strides,padding=padding,data_layout='NCHW')\n",
    "\n",
    "    bn = batch_normal(conv,name=name+\"_bn\",epsilon=epsilon)\n",
    "\n",
    "    act = relay.nn.relu(bn)\n",
    "\n",
    "    return act\n",
    "\n",
    "data_shape = (1,3,224,224)\n",
    "dtype = 'float32'\n",
    "data = relay.var(\"data\", shape=data_shape, dtype=dtype)\n",
    "\n",
    "act = net(data,'base',32)\n",
    "\n",
    "func = relay.Function(relay.analysis.free_vars(act), act)\n",
    "\n",
    "print(func)"
   ]
  },
  {
   "cell_type": "code",
   "execution_count": null,
   "metadata": {},
   "outputs": [],
   "source": [
    "import numpy as np\n",
    "import tvm.contrib.graph_executor as runtime\n",
    "\n",
    "data = np.random.uniform(1,-1,(1, 3, 224, 224)).astype(dtype)\n",
    "params = {\n",
    "        \"base_conv_weight\": tvm.nd.array(np.random.uniform(-1, 1, (32, 3, 3, 3)).astype(dtype)),\n",
    "        \"base_bn_gamma\": tvm.nd.array(np.random.uniform(-1, 1, (32)).astype(dtype)),\n",
    "        \"base_bn_beta\": tvm.nd.array(np.random.uniform(-1, 1, (32)).astype(dtype)),\n",
    "        \"base_bn_moving_mean\": tvm.nd.array(np.random.uniform(-1, 1, (32)).astype(dtype)),\n",
    "        \"base_bn_moving_var\": tvm.nd.array(np.random.uniform(-1, 1, (32)).astype(dtype)),\n",
    "}\n",
    "target = 'llvm'\n",
    "\n",
    "with tvm.transform.PassContext(opt_level=3):\n",
    "    lib = relay.build(func, target, params=params)\n",
    "\n",
    "ctx = tvm.cpu(0)\n",
    "\n",
    "m = runtime.GraphModule(lib[\"default\"](ctx))\n",
    "\n",
    "m.set_input('data', tvm.nd.array(data))\n",
    "\n",
    "m.run()\n",
    "\n",
    "tvm_output = m.get_output(0)\n",
    "\n",
    "print(tvm_output.asnumpy())"
   ]
  },
  {
   "cell_type": "code",
   "execution_count": null,
   "metadata": {},
   "outputs": [],
   "source": [
    "k0,k1 = s[C].split(C.op.reduce_axis[0], factor=32)\n",
    "\n",
    "tvm.lower(s,[A,C],simple_mode=True)"
   ]
  },
  {
   "cell_type": "code",
   "execution_count": null,
   "metadata": {},
   "outputs": [],
   "source": [
    "k0,k1 = s[C].split(C.op.reduce_axis[0], factor=32)\n",
    "\n",
    "tvm.lower(s,[A,C],simple_mode=True)"
   ]
  },
  {
   "cell_type": "code",
   "execution_count": null,
   "metadata": {},
   "outputs": [],
   "source": [
    "k0,k1 = s[C].split(C.op.reduce_axis[0], factor=32)\n",
    "\n",
    "tvm.lower(s,[A,C],simple_mode=True)"
   ]
  },
  {
   "cell_type": "code",
   "execution_count": null,
   "metadata": {},
   "outputs": [],
   "source": [
    "k0,k1 = s[C].split(C.op.reduce_axis[0], factor=32)\n",
    "\n",
    "tvm.lower(s,[A,C],simple_mode=True)"
   ]
  },
  {
   "cell_type": "code",
   "execution_count": null,
   "metadata": {},
   "outputs": [],
   "source": [
    "k0,k1 = s[C].split(C.op.reduce_axis[0], factor=32)\n",
    "\n",
    "tvm.lower(s,[A,C],simple_mode=True)"
   ]
  },
  {
   "cell_type": "code",
   "execution_count": null,
   "metadata": {},
   "outputs": [],
   "source": [
    "k0,k1 = s[C].split(C.op.reduce_axis[0], factor=32)\n",
    "\n",
    "tvm.lower(s,[A,C],simple_mode=True)"
   ]
  },
  {
   "cell_type": "code",
   "execution_count": null,
   "metadata": {},
   "outputs": [],
   "source": []
  }
 ],
 "metadata": {
  "kernelspec": {
   "display_name": "Python 3 (ipykernel)",
   "language": "python",
   "name": "python3"
  }
 },
 "nbformat": 4,
 "nbformat_minor": 2
}

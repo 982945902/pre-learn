{
 "cells": [
  {
   "cell_type": "code",
   "execution_count": null,
   "metadata": {},
   "outputs": [],
   "source": [
    "import numpy as np\n",
    "from tvm import te\n",
    "import tvm\n",
    "from tvm import relay"
   ]
  },
  {
   "cell_type": "code",
   "execution_count": null,
   "metadata": {},
   "outputs": [],
   "source": [
    "def example():\n",
    "    shape = (1, 64, 54, 54)\n",
    "    c_data = np.empty(shape).astype(\"float32\")\n",
    "    c = relay.const(c_data)\n",
    "    weight = relay.var(\"weight\", shape=(64, 64, 3, 3))\n",
    "    x = relay.var(\"x\", relay.TensorType((1, 64, 56, 56), \"float32\"))\n",
    "    conv = relay.nn.conv2d(x, weight)\n",
    "    y = relay.add(c, c)\n",
    "    y = relay.multiply(y, relay.const(2, \"float32\"))\n",
    "    y = relay.add(conv, y)\n",
    "    z = relay.add(y, c)\n",
    "    z1 = relay.add(y, c)\n",
    "    z2 = relay.add(z, z1)\n",
    "    return relay.Function([x, weight], z2)"
   ]
  },
  {
   "cell_type": "code",
   "execution_count": null,
   "metadata": {},
   "outputs": [],
   "source": [
    "f = example()\n",
    "\n",
    "f"
   ]
  },
  {
   "cell_type": "code",
   "execution_count": null,
   "metadata": {},
   "outputs": [],
   "source": [
    "@relay.op.register_alter_op_layout('nn.conv2d',level=100)\n",
    "def alter_conv2d(attrs, inputs, tinfos, ouput_type):\n",
    "    data,weight = inputs\n",
    "    new_attrs = dict(attrs)\n",
    "    new_attrs[\"data_layout\"] = \"NCHW16c\"\n",
    "\n",
    "    return relay.nn.conv2d(data, weight, **new_attrs)"
   ]
  },
  {
   "cell_type": "code",
   "execution_count": null,
   "metadata": {},
   "outputs": [],
   "source": [
    "f = example()\n",
    "mod = tvm.IRModule.from_expr(f)\n",
    "fold_const = relay.transform.FoldConstant()\n",
    "\n",
    "mod = fold_const(mod)\n",
    "mod"
   ]
  },
  {
   "cell_type": "code",
   "execution_count": null,
   "metadata": {},
   "outputs": [],
   "source": [
    "f = example()\n",
    "mod = tvm.IRModule.from_expr(f)\n",
    "mod = relay.transform.EliminateCommonSubexpr()(mod)\n",
    "mod.functions"
   ]
  },
  {
   "cell_type": "code",
   "execution_count": null,
   "metadata": {},
   "outputs": [],
   "source": [
    "f = example()\n",
    "mod = tvm.IRModule.from_expr(f)\n",
    "mod = relay.transform.FuseOps(fuse_opt_level=0)(mod)\n",
    "mod.functions"
   ]
  },
  {
   "cell_type": "code",
   "execution_count": null,
   "metadata": {},
   "outputs": [],
   "source": [
    "f = example()\n",
    "\n",
    "mod = tvm.IRModule.from_expr(f)\n",
    "seq = tvm.transform.Sequential(\n",
    "    [\n",
    "        relay.transform.FoldConstant(),\n",
    "        relay.transform.EliminateCommonSubexpr(),\n",
    "        relay.transform.FuseOps(fuse_opt_level=2)\n",
    "    ]\n",
    ")\n",
    "\n",
    "seq(mod)\n",
    "\n",
    "mod.functions"
   ]
  },
  {
   "cell_type": "code",
   "execution_count": null,
   "metadata": {},
   "outputs": [],
   "source": [
    "f = example()\n",
    "\n",
    "mod = tvm.IRModule.from_expr(f)\n",
    "\n",
    "# with tvm.transform.PassContext(opt_level=2):\n",
    "#     seq(mod)\n",
    "seq(mod)\n",
    "\n",
    "mod.functions"
   ]
  },
  {
   "cell_type": "code",
   "execution_count": null,
   "metadata": {},
   "outputs": [],
   "source": [
    "f = example()\n",
    "\n",
    "mod = tvm.IRModule.from_expr(f)\n",
    "\n",
    "with tvm.transform.PassContext(opt_level=3):\n",
    "    seq(mod)\n",
    "\n",
    "mod.functions"
   ]
  },
  {
   "cell_type": "code",
   "execution_count": null,
   "metadata": {},
   "outputs": [],
   "source": [
    "@relay.transform.function_pass(opt_level=1)\n",
    "class CustomPipeline:\n",
    "    def __init__(self,mutier) -> None:\n",
    "        self.mutier = mutier\n",
    "\n",
    "    def transform_function(self,func,mod,ctx):\n",
    "        obj = self\n",
    "\n",
    "        class ReplaceConst(tvm.relay.ExprMutator):\n",
    "            def visit_constant(self,c):\n",
    "                return relay.multiply(c,obj.mutier)\n",
    "\n",
    "        return ReplaceConst().visit(func)"
   ]
  },
  {
   "cell_type": "code",
   "execution_count": null,
   "metadata": {},
   "outputs": [],
   "source": [
    "f = example()\n",
    "mod = tvm.IRModule.from_expr(f)\n",
    "\n",
    "cus = CustomPipeline(relay.const(4,'float32'))\n",
    "mod = cus(mod)\n",
    "\n",
    "mod"
   ]
  },
  {
   "cell_type": "code",
   "execution_count": null,
   "metadata": {},
   "outputs": [],
   "source": [
    "f = example()\n",
    "\n",
    "mod = tvm.IRModule.from_expr(f)\n",
    "seq = tvm.transform.Sequential(\n",
    "    [\n",
    "        relay.transform.FoldConstant(),\n",
    "        tvm.transform.PrintIR(),\n",
    "        relay.transform.EliminateCommonSubexpr(),\n",
    "        relay.transform.FuseOps(fuse_opt_level=2)\n",
    "    ]\n",
    ")\n",
    "\n",
    "seq(mod)\n",
    "\n",
    "mod.functions"
   ]
  },
  {
   "cell_type": "code",
   "execution_count": null,
   "metadata": {},
   "outputs": [],
   "source": [
    "seq = tvm.transform.Sequential(\n",
    "    [\n",
    "        relay.transform.FoldConstant(),\n",
    "        relay.transform.EliminateCommonSubexpr(),\n",
    "        relay.transform.FuseOps(fuse_opt_level=2)\n",
    "    ]\n",
    ")\n",
    "\n",
    "@tvm.instrument.pass_instrument\n",
    "class PrintIR:\n",
    "    \"\"\"Print the name of the pass, the IR, only before passes execute.\"\"\"\n",
    "\n",
    "    def run_before_pass(self, mod, info):\n",
    "        print(\"Running pass: {}\", info)\n",
    "        print(mod)\n",
    "\n",
    "\n",
    "with tvm.transform.PassContext(opt_level=3, instruments=[PrintIR()]):\n",
    "    with tvm.target.Target(\"llvm\"):\n",
    "        # Perform the optimizations.\n",
    "        mod = seq(mod)\n",
    "print(mod)\n",
    "\n",
    "print(\"done\")"
   ]
  }
 ],
 "metadata": {
  "kernelspec": {
   "display_name": "Python 3 (ipykernel)",
   "language": "python",
   "name": "python3"
  },
  "language_info": {
   "codemirror_mode": {
    "name": "ipython",
    "version": 3
   },
   "file_extension": ".py",
   "mimetype": "text/x-python",
   "name": "python",
   "nbconvert_exporter": "python",
   "pygments_lexer": "ipython3",
   "version": "3.11.5"
  }
 },
 "nbformat": 4,
 "nbformat_minor": 2
}

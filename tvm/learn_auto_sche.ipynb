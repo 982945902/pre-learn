{
 "cells": [
  {
   "cell_type": "code",
   "execution_count": null,
   "metadata": {},
   "outputs": [],
   "source": [
    "from torchvision import transforms\n",
    "from PIL import Image\n",
    "\n",
    "import time\n",
    "import numpy as np\n",
    "\n",
    "import torch\n",
    "import torchvision\n",
    "\n",
    "from tvm.contrib.download import download_testdata\n",
    "\n",
    "model_name = \"resnet18\"\n",
    "model = torchvision.models.__dict__[model_name](pretrained=True)\n",
    "model = model.eval()\n",
    "\n",
    "input = torch.randn(1, 3, 224, 224)\n",
    "script_module = torch.jit.trace(model, input).eval()\n",
    "\n",
    "\n",
    "image_path = download_testdata(\"https://github.com/dmlc/mxnet.js/blob/main/data/cat.png?raw=true\",\n",
    "                               \"cat.png\", module=\"data\")\n",
    "img = Image.open(image_path).resize((224, 224))\n",
    "\n",
    "transform = transforms.Compose([transforms.Resize(256),\n",
    "                                transforms.CenterCrop(224),\n",
    "                                transforms.ToTensor(),\n",
    "                                transforms.Normalize(mean=[0.485, 0.456, 0.406], std=[0.229, 0.224, 0.225]),])\n",
    "\n",
    "data = transform(img)"
   ]
  },
  {
   "cell_type": "code",
   "execution_count": null,
   "metadata": {},
   "outputs": [],
   "source": [
    "img = np.expand_dims(img, axis=0)\n",
    "print(img.shape)\n",
    "img = np.transpose(img, (0, 3, 1, 2))\n",
    "\n",
    "print(img.shape)\n",
    "\n",
    "from tvm import relay\n",
    "\n",
    "input_name = \"input0\"\n",
    "shape_list = [(input_name, img.shape)]\n",
    "\n",
    "mod,param = relay.frontend.from_pytorch(script_module, shape_list)"
   ]
  },
  {
   "cell_type": "code",
   "execution_count": null,
   "metadata": {},
   "outputs": [],
   "source": [
    "import tvm \n",
    "\n",
    "target = 'llvm'\n",
    "target_host = 'llvm'\n",
    "ctx = tvm.cpu(0)\n",
    "\n",
    "with tvm.transform.PassContext(opt_level=3):\n",
    "    lib = relay.build(mod, target=target, target_host=target_host,params=param)"
   ]
  },
  {
   "cell_type": "code",
   "execution_count": null,
   "metadata": {},
   "outputs": [],
   "source": [
    "# from tvm.contrib import graph_runtime\n",
    "import tvm.contrib.graph_executor as runtime\n",
    "\n",
    "def bench_tvm():\n",
    "    for i in range(100):\n",
    "        dtype = \"float32\"\n",
    "\n",
    "        # m = graph_runtime.GraphModule(lib['default'](ctx))\n",
    "        m = runtime.GraphModule(lib['default'](ctx))\n",
    "        m.set_input(input_name, tvm.nd.array(img.astype(dtype)))\n",
    "        m.run()\n",
    "\n",
    "        _ = m.get_output(0)\n",
    "\n",
    "%timeit bench_tvm()"
   ]
  },
  {
   "cell_type": "code",
   "execution_count": null,
   "metadata": {},
   "outputs": [],
   "source": [
    "from tvm import auto_scheduler\n",
    "from tvm.relay import data_dep_optimization as ddo"
   ]
  },
  {
   "cell_type": "code",
   "execution_count": null,
   "metadata": {},
   "outputs": [],
   "source": [
    "tasks,wei =  auto_scheduler.extract_tasks(mod['main'],params=param,target=target)"
   ]
  },
  {
   "cell_type": "code",
   "execution_count": null,
   "metadata": {},
   "outputs": [],
   "source": [
    "tasks\n",
    "wei"
   ]
  },
  {
   "cell_type": "code",
   "execution_count": null,
   "metadata": {},
   "outputs": [],
   "source": [
    "for i,task in enumerate(tasks):\n",
    "    print(i, task.compute_dag)"
   ]
  },
  {
   "cell_type": "code",
   "execution_count": null,
   "metadata": {},
   "outputs": [],
   "source": [
    "tunner = auto_scheduler.TaskScheduler(tasks,wei)"
   ]
  },
  {
   "cell_type": "code",
   "execution_count": 23,
   "metadata": {},
   "outputs": [
    {
     "name": "stdout",
     "output_type": "stream",
     "text": [
      "|  ID  |                       Task Description                        | Latency (ms) | Speed (GFLOPS) | Trials |----------------------------------------------------------------------\n",
      "------------------------------  [ Task Scheduler ]\n",
      "\n",
      "-----------------------------------------------------------------------------------------------------------------\n",
      "|    0 |                    vm_mod_fused_nn_contrib_conv2d_NCHWc_add_1 |            - |              - |      0 |\n",
      "|    1 |              vm_mod_fused_nn_contrib_conv2d_NCHWc_add_nn_relu |            - |              - |      0 |\n",
      "----------------------------------------------------------------------\n",
      "|    2 |        vm_mod_fused_nn_contrib_conv2d_NCHWc_add_add_nn_relu_1 |            - |              - |      0 |\n",
      "|    3 |                                     vm_mod_fused_nn_dense_add |            - |              - |      0 |\n",
      "|    4 |            vm_mod_fused_nn_contrib_conv2d_NCHWc_add_nn_relu_5 |            - |              - |      0 |\n",
      "|    5 |                    vm_mod_fused_nn_contrib_conv2d_NCHWc_add_2 |            - |              - |      0 |\n",
      "|    6 |            vm_mod_fused_nn_contrib_conv2d_NCHWc_add_nn_relu_1 |            - |              - |      0 |\n",
      "|    7 |            vm_mod_fused_nn_contrib_conv2d_NCHWc_add_nn_relu_6 |            - |              - |      0 |\n",
      "|    8 |        vm_mod_fused_nn_contrib_conv2d_NCHWc_add_add_nn_relu_3 |            - |              - |      0 |\n",
      "|    9 |                      vm_mod_fused_nn_contrib_conv2d_NCHWc_add |            - |              - |      0 |\n",
      "|   10 |          vm_mod_fused_nn_contrib_conv2d_NCHWc_add_add_nn_relu |            - |              - |      0 |\n",
      "|   11 |            vm_mod_fused_nn_contrib_conv2d_NCHWc_add_nn_relu_2 |            - |              - |      0 |\n",
      "|   12 |        vm_mod_fused_nn_contrib_conv2d_NCHWc_add_add_nn_relu_2 |            - |              - |      0 |\n",
      "|   13 |                           vm_mod_fused_nn_adaptive_avg_pool2d |            - |              - |      0 |\n",
      "|   14 |            vm_mod_fused_nn_contrib_conv2d_NCHWc_add_nn_relu_3 |            - |              - |      0 |\n",
      "|   15 |            vm_mod_fused_nn_contrib_conv2d_NCHWc_add_nn_relu_7 |            - |              - |      0 |\n",
      "|   16 |                                    vm_mod_fused_nn_max_pool2d |            - |              - |      0 |\n",
      "|   17 |            vm_mod_fused_nn_contrib_conv2d_NCHWc_add_nn_relu_4 |            - |              - |      0 |\n",
      "-----------------------------------------------------------------------------------------------------------------\n",
      "Estimated total latency: - ms\tTrials: 0\tUsed time : 0 s\tNext ID: 0\t\n",
      "----------------------------------------------------------------------\n",
      "------------------------------  [ Search ]\n",
      "----------------------------------------------------------------------\n",
      "Generate Sketches\t\t#s: 3\n",
      "Sample Initial Population\t#s: 1999\tfail_ct: 2\tTime elapsed: 5.59\n",
      "GA Iter: 0\tMax score: 0.9992\tMin score: 0.9867\t#Pop: 22\t#M+: 0\t#M-: 0\n",
      "GA Iter: 4\tMax score: 0.9999\tMin score: 0.9982\t#Pop: 22\t#M+: 1377\t#M-: 75\n",
      "EvolutionarySearch\t\t#s: 22\tTime elapsed: 23.20\n",
      "----------------------------------------------------------------------\n",
      "------------------------------  [ Measure ]\n",
      "----------------------------------------------------------------------\n",
      "Get 11 programs to measure:\n",
      "...........*E*E*E*E*E*E*E*E*E*E*E\n",
      "Time elapsed for measurement: 33.45 s\n",
      "----------------------------------------------------------------------\n",
      "------------------------------  [ Train cost model ]\n",
      "----------------------------------------------------------------------\n"
     ]
    },
    {
     "ename": "TypeError",
     "evalue": "callback must be an instance of `TrainingCallback`.",
     "output_type": "error",
     "traceback": [
      "\u001b[0;31m---------------------------------------------------------------------------\u001b[0m",
      "\u001b[0;31mTypeError\u001b[0m                                 Traceback (most recent call last)",
      "Cell \u001b[0;32mIn[23], line 8\u001b[0m\n\u001b[1;32m      1\u001b[0m log_file \u001b[38;5;241m=\u001b[39m \u001b[38;5;124m'\u001b[39m\u001b[38;5;124mlearn_auto_sche.log\u001b[39m\u001b[38;5;124m'\u001b[39m\n\u001b[1;32m      2\u001b[0m tun_option \u001b[38;5;241m=\u001b[39m auto_scheduler\u001b[38;5;241m.\u001b[39mTuningOptions(\n\u001b[1;32m      3\u001b[0m     num_measure_trials\u001b[38;5;241m=\u001b[39m\u001b[38;5;241m200\u001b[39m,\n\u001b[1;32m      4\u001b[0m     runner\u001b[38;5;241m=\u001b[39mauto_scheduler\u001b[38;5;241m.\u001b[39mLocalRunner(repeat\u001b[38;5;241m=\u001b[39m\u001b[38;5;241m1\u001b[39m, enable_cpu_cache_flush\u001b[38;5;241m=\u001b[39m\u001b[38;5;28;01mTrue\u001b[39;00m),\n\u001b[1;32m      5\u001b[0m     measure_callbacks\u001b[38;5;241m=\u001b[39m[auto_scheduler\u001b[38;5;241m.\u001b[39mRecordToFile(log_file)],\n\u001b[1;32m      6\u001b[0m )\n\u001b[0;32m----> 8\u001b[0m \u001b[43mtunner\u001b[49m\u001b[38;5;241;43m.\u001b[39;49m\u001b[43mtune\u001b[49m\u001b[43m(\u001b[49m\u001b[43mtun_option\u001b[49m\u001b[43m)\u001b[49m\n",
      "File \u001b[0;32m/opt/homebrew/lib/python3.11/site-packages/tvm-0.16.dev1105+g05e218c54-py3.11-macosx-13-arm64.egg/tvm/auto_scheduler/task_scheduler.py:357\u001b[0m, in \u001b[0;36mTaskScheduler.tune\u001b[0;34m(self, tune_option, search_policy, search_policy_params, adaptive_training, per_task_early_stopping)\u001b[0m\n\u001b[1;32m    354\u001b[0m \u001b[38;5;28;01mfor\u001b[39;00m idx \u001b[38;5;129;01min\u001b[39;00m \u001b[38;5;28mrange\u001b[39m(\u001b[38;5;28mlen\u001b[39m(\u001b[38;5;28mself\u001b[39m\u001b[38;5;241m.\u001b[39mtasks)):\n\u001b[1;32m    355\u001b[0m     \u001b[38;5;66;03m# skip warming up this task if it has been tuned before (restored from the log file)\u001b[39;00m\n\u001b[1;32m    356\u001b[0m     \u001b[38;5;28;01mif\u001b[39;00m \u001b[38;5;129;01mnot\u001b[39;00m \u001b[38;5;28mself\u001b[39m\u001b[38;5;241m.\u001b[39mtask_cts[idx]:\n\u001b[0;32m--> 357\u001b[0m         \u001b[38;5;28;43mself\u001b[39;49m\u001b[38;5;241;43m.\u001b[39;49m\u001b[43m_tune_task\u001b[49m\u001b[43m(\u001b[49m\u001b[43midx\u001b[49m\u001b[43m)\u001b[49m\n\u001b[1;32m    358\u001b[0m \u001b[38;5;28mself\u001b[39m\u001b[38;5;241m.\u001b[39mbest_ct \u001b[38;5;241m=\u001b[39m \u001b[38;5;28mself\u001b[39m\u001b[38;5;241m.\u001b[39mct\n\u001b[1;32m    359\u001b[0m \u001b[38;5;28mself\u001b[39m\u001b[38;5;241m.\u001b[39mbest_score \u001b[38;5;241m=\u001b[39m \u001b[38;5;28mself\u001b[39m\u001b[38;5;241m.\u001b[39mcur_score\n",
      "File \u001b[0;32m/opt/homebrew/lib/python3.11/site-packages/tvm-0.16.dev1105+g05e218c54-py3.11-macosx-13-arm64.egg/tvm/auto_scheduler/task_scheduler.py:452\u001b[0m, in \u001b[0;36mTaskScheduler._tune_task\u001b[0;34m(self, task_idx)\u001b[0m\n\u001b[1;32m    449\u001b[0m \u001b[38;5;28;01mfor\u001b[39;00m callback \u001b[38;5;129;01min\u001b[39;00m \u001b[38;5;28mself\u001b[39m\u001b[38;5;241m.\u001b[39mcallbacks:\n\u001b[1;32m    450\u001b[0m     callback\u001b[38;5;241m.\u001b[39mpre_tune(\u001b[38;5;28mself\u001b[39m, task_idx)\n\u001b[0;32m--> 452\u001b[0m measure_inputs, measure_results \u001b[38;5;241m=\u001b[39m \u001b[38;5;28;43mself\u001b[39;49m\u001b[38;5;241;43m.\u001b[39;49m\u001b[43msearch_policies\u001b[49m\u001b[43m[\u001b[49m\u001b[43mtask_idx\u001b[49m\u001b[43m]\u001b[49m\u001b[38;5;241;43m.\u001b[39;49m\u001b[43mcontinue_search_one_round\u001b[49m\u001b[43m(\u001b[49m\n\u001b[1;32m    453\u001b[0m \u001b[43m    \u001b[49m\u001b[38;5;28;43mself\u001b[39;49m\u001b[38;5;241;43m.\u001b[39;49m\u001b[43mnum_measures_per_round\u001b[49m\u001b[43m,\u001b[49m\u001b[43m \u001b[49m\u001b[38;5;28;43mself\u001b[39;49m\u001b[38;5;241;43m.\u001b[39;49m\u001b[43mmeasurer\u001b[49m\n\u001b[1;32m    454\u001b[0m \u001b[43m\u001b[49m\u001b[43m)\u001b[49m\n\u001b[1;32m    456\u001b[0m \u001b[38;5;28mself\u001b[39m\u001b[38;5;241m.\u001b[39mtask_cts[task_idx] \u001b[38;5;241m+\u001b[39m\u001b[38;5;241m=\u001b[39m \u001b[38;5;241m1\u001b[39m\n\u001b[1;32m    458\u001b[0m \u001b[38;5;28;01mfor\u001b[39;00m res \u001b[38;5;129;01min\u001b[39;00m measure_results:\n",
      "File \u001b[0;32m/opt/homebrew/lib/python3.11/site-packages/tvm-0.16.dev1105+g05e218c54-py3.11-macosx-13-arm64.egg/tvm/auto_scheduler/search_policy.py:119\u001b[0m, in \u001b[0;36mSearchPolicy.continue_search_one_round\u001b[0;34m(self, num_measure, measurer)\u001b[0m\n\u001b[1;32m    101\u001b[0m \u001b[38;5;28;01mdef\u001b[39;00m \u001b[38;5;21mcontinue_search_one_round\u001b[39m(\u001b[38;5;28mself\u001b[39m, num_measure, measurer):\n\u001b[1;32m    102\u001b[0m \u001b[38;5;250m    \u001b[39m\u001b[38;5;124;03m\"\"\"\u001b[39;00m\n\u001b[1;32m    103\u001b[0m \u001b[38;5;124;03m    Continue the search by doing an additional search round.\u001b[39;00m\n\u001b[1;32m    104\u001b[0m \n\u001b[0;32m   (...)\u001b[0m\n\u001b[1;32m    117\u001b[0m \u001b[38;5;124;03m        The results of measurments in this search round\u001b[39;00m\n\u001b[1;32m    118\u001b[0m \u001b[38;5;124;03m    \"\"\"\u001b[39;00m\n\u001b[0;32m--> 119\u001b[0m     \u001b[38;5;28;01mreturn\u001b[39;00m \u001b[43m_ffi_api\u001b[49m\u001b[38;5;241;43m.\u001b[39;49m\u001b[43mSearchPolicyContinueSearchOneRound\u001b[49m\u001b[43m(\u001b[49m\u001b[38;5;28;43mself\u001b[39;49m\u001b[43m,\u001b[49m\u001b[43m \u001b[49m\u001b[43mnum_measure\u001b[49m\u001b[43m,\u001b[49m\u001b[43m \u001b[49m\u001b[43mmeasurer\u001b[49m\u001b[43m)\u001b[49m\n",
      "File \u001b[0;32mtvm/_ffi/_cython/./packed_func.pxi:332\u001b[0m, in \u001b[0;36mtvm._ffi._cy3.core.PackedFuncBase.__call__\u001b[0;34m()\u001b[0m\n",
      "File \u001b[0;32mtvm/_ffi/_cython/./packed_func.pxi:263\u001b[0m, in \u001b[0;36mtvm._ffi._cy3.core.FuncCall\u001b[0;34m()\u001b[0m\n",
      "File \u001b[0;32mtvm/_ffi/_cython/./packed_func.pxi:252\u001b[0m, in \u001b[0;36mtvm._ffi._cy3.core.FuncCall3\u001b[0;34m()\u001b[0m\n",
      "File \u001b[0;32mtvm/_ffi/_cython/./base.pxi:182\u001b[0m, in \u001b[0;36mtvm._ffi._cy3.core.CHECK_CALL\u001b[0;34m()\u001b[0m\n",
      "File \u001b[0;32m/opt/homebrew/lib/python3.11/site-packages/tvm-0.16.dev1105+g05e218c54-py3.11-macosx-13-arm64.egg/tvm/_ffi/base.py:481\u001b[0m, in \u001b[0;36mraise_last_ffi_error\u001b[0;34m()\u001b[0m\n\u001b[1;32m    475\u001b[0m \u001b[38;5;66;03m# The exception PyObject may contain a large amount of state,\u001b[39;00m\n\u001b[1;32m    476\u001b[0m \u001b[38;5;66;03m# including all stack frames that may be inspected in a later\u001b[39;00m\n\u001b[1;32m    477\u001b[0m \u001b[38;5;66;03m# PDB post-mortem.  Therefore, we must make sure to remove the\u001b[39;00m\n\u001b[1;32m    478\u001b[0m \u001b[38;5;66;03m# underlying PyObject* from the C++ side after we retrieve it.\u001b[39;00m\n\u001b[1;32m    479\u001b[0m _LIB\u001b[38;5;241m.\u001b[39mTVMDropLastPythonError()\n\u001b[0;32m--> 481\u001b[0m \u001b[38;5;28;01mraise\u001b[39;00m py_err\n",
      "File \u001b[0;32mtvm/_ffi/_cython/./packed_func.pxi:56\u001b[0m, in \u001b[0;36mtvm._ffi._cy3.core.tvm_callback\u001b[0;34m()\u001b[0m\n",
      "File \u001b[0;32m/opt/homebrew/lib/python3.11/site-packages/tvm-0.16.dev1105+g05e218c54-py3.11-macosx-13-arm64.egg/tvm/auto_scheduler/cost_model/cost_model.py:93\u001b[0m, in \u001b[0;36mPythonBasedModel.__init__.<locals>.update_func\u001b[0;34m(inputs, results)\u001b[0m\n\u001b[1;32m     92\u001b[0m \u001b[38;5;28;01mdef\u001b[39;00m \u001b[38;5;21mupdate_func\u001b[39m(inputs, results):\n\u001b[0;32m---> 93\u001b[0m     \u001b[38;5;28;43mself\u001b[39;49m\u001b[38;5;241;43m.\u001b[39;49m\u001b[43mupdate\u001b[49m\u001b[43m(\u001b[49m\u001b[43minputs\u001b[49m\u001b[43m,\u001b[49m\u001b[43m \u001b[49m\u001b[43mresults\u001b[49m\u001b[43m)\u001b[49m\n",
      "File \u001b[0;32m/opt/homebrew/lib/python3.11/site-packages/tvm-0.16.dev1105+g05e218c54-py3.11-macosx-13-arm64.egg/tvm/auto_scheduler/cost_model/xgb_model.py:204\u001b[0m, in \u001b[0;36mXGBModel.update\u001b[0;34m(self, inputs, results)\u001b[0m\n\u001b[1;32m    199\u001b[0m dtrain \u001b[38;5;241m=\u001b[39m pack_sum_xgbmatrix(\n\u001b[1;32m    200\u001b[0m     features, normalized_throughputs, task_ids, normalized_throughputs\n\u001b[1;32m    201\u001b[0m )\n\u001b[1;32m    203\u001b[0m \u001b[38;5;66;03m# train xgb model\u001b[39;00m\n\u001b[0;32m--> 204\u001b[0m \u001b[38;5;28mself\u001b[39m\u001b[38;5;241m.\u001b[39mbst \u001b[38;5;241m=\u001b[39m \u001b[43mxgb\u001b[49m\u001b[38;5;241;43m.\u001b[39;49m\u001b[43mtrain\u001b[49m\u001b[43m(\u001b[49m\n\u001b[1;32m    205\u001b[0m \u001b[43m    \u001b[49m\u001b[38;5;28;43mself\u001b[39;49m\u001b[38;5;241;43m.\u001b[39;49m\u001b[43mxgb_params\u001b[49m\u001b[43m,\u001b[49m\n\u001b[1;32m    206\u001b[0m \u001b[43m    \u001b[49m\u001b[43mdtrain\u001b[49m\u001b[43m,\u001b[49m\n\u001b[1;32m    207\u001b[0m \u001b[43m    \u001b[49m\u001b[43mnum_boost_round\u001b[49m\u001b[38;5;241;43m=\u001b[39;49m\u001b[38;5;241;43m10000\u001b[39;49m\u001b[43m,\u001b[49m\n\u001b[1;32m    208\u001b[0m \u001b[43m    \u001b[49m\u001b[43mobj\u001b[49m\u001b[38;5;241;43m=\u001b[39;49m\u001b[43mpack_sum_square_error\u001b[49m\u001b[43m,\u001b[49m\n\u001b[1;32m    209\u001b[0m \u001b[43m    \u001b[49m\u001b[43mcallbacks\u001b[49m\u001b[38;5;241;43m=\u001b[39;49m\u001b[43m[\u001b[49m\n\u001b[1;32m    210\u001b[0m \u001b[43m        \u001b[49m\u001b[43mCustomCallback\u001b[49m\u001b[43m(\u001b[49m\n\u001b[1;32m    211\u001b[0m \u001b[43m            \u001b[49m\u001b[43mstopping_rounds\u001b[49m\u001b[38;5;241;43m=\u001b[39;49m\u001b[38;5;241;43m50\u001b[39;49m\u001b[43m,\u001b[49m\n\u001b[1;32m    212\u001b[0m \u001b[43m            \u001b[49m\u001b[43mmetric\u001b[49m\u001b[38;5;241;43m=\u001b[39;49m\u001b[38;5;124;43m\"\u001b[39;49m\u001b[38;5;124;43mtr-p-rmse\u001b[39;49m\u001b[38;5;124;43m\"\u001b[39;49m\u001b[43m,\u001b[49m\n\u001b[1;32m    213\u001b[0m \u001b[43m            \u001b[49m\u001b[43mfevals\u001b[49m\u001b[38;5;241;43m=\u001b[39;49m\u001b[43m[\u001b[49m\u001b[43mpack_sum_rmse\u001b[49m\u001b[43m,\u001b[49m\u001b[43m \u001b[49m\u001b[43mpack_sum_average_peak_score\u001b[49m\u001b[43m(\u001b[49m\u001b[38;5;28;43mself\u001b[39;49m\u001b[38;5;241;43m.\u001b[39;49m\u001b[43mplan_size\u001b[49m\u001b[43m)\u001b[49m\u001b[43m]\u001b[49m\u001b[43m,\u001b[49m\n\u001b[1;32m    214\u001b[0m \u001b[43m            \u001b[49m\u001b[43mevals\u001b[49m\u001b[38;5;241;43m=\u001b[39;49m\u001b[43m[\u001b[49m\u001b[43m(\u001b[49m\u001b[43mdtrain\u001b[49m\u001b[43m,\u001b[49m\u001b[43m \u001b[49m\u001b[38;5;124;43m\"\u001b[39;49m\u001b[38;5;124;43mtr\u001b[39;49m\u001b[38;5;124;43m\"\u001b[39;49m\u001b[43m)\u001b[49m\u001b[43m]\u001b[49m\u001b[43m,\u001b[49m\n\u001b[1;32m    215\u001b[0m \u001b[43m            \u001b[49m\u001b[43mmaximize\u001b[49m\u001b[38;5;241;43m=\u001b[39;49m\u001b[38;5;28;43;01mFalse\u001b[39;49;00m\u001b[43m,\u001b[49m\n\u001b[1;32m    216\u001b[0m \u001b[43m            \u001b[49m\u001b[43mverbose_eval\u001b[49m\u001b[38;5;241;43m=\u001b[39;49m\u001b[38;5;28;43mself\u001b[39;49m\u001b[38;5;241;43m.\u001b[39;49m\u001b[43mverbose_eval\u001b[49m\u001b[43m,\u001b[49m\n\u001b[1;32m    217\u001b[0m \u001b[43m        \u001b[49m\u001b[43m)\u001b[49m\n\u001b[1;32m    218\u001b[0m \u001b[43m    \u001b[49m\u001b[43m]\u001b[49m\u001b[43m,\u001b[49m\n\u001b[1;32m    219\u001b[0m \u001b[43m\u001b[49m\u001b[43m)\u001b[49m\n\u001b[1;32m    221\u001b[0m \u001b[38;5;66;03m# Update the model file if it has been set\u001b[39;00m\n\u001b[1;32m    222\u001b[0m \u001b[38;5;28;01mif\u001b[39;00m \u001b[38;5;28mself\u001b[39m\u001b[38;5;241m.\u001b[39mmodel_file:\n",
      "File \u001b[0;32m/opt/homebrew/lib/python3.11/site-packages/xgboost/core.py:730\u001b[0m, in \u001b[0;36mrequire_keyword_args.<locals>.throw_if.<locals>.inner_f\u001b[0;34m(*args, **kwargs)\u001b[0m\n\u001b[1;32m    728\u001b[0m \u001b[38;5;28;01mfor\u001b[39;00m k, arg \u001b[38;5;129;01min\u001b[39;00m \u001b[38;5;28mzip\u001b[39m(sig\u001b[38;5;241m.\u001b[39mparameters, args):\n\u001b[1;32m    729\u001b[0m     kwargs[k] \u001b[38;5;241m=\u001b[39m arg\n\u001b[0;32m--> 730\u001b[0m \u001b[38;5;28;01mreturn\u001b[39;00m \u001b[43mfunc\u001b[49m\u001b[43m(\u001b[49m\u001b[38;5;241;43m*\u001b[39;49m\u001b[38;5;241;43m*\u001b[39;49m\u001b[43mkwargs\u001b[49m\u001b[43m)\u001b[49m\n",
      "File \u001b[0;32m/opt/homebrew/lib/python3.11/site-packages/xgboost/training.py:167\u001b[0m, in \u001b[0;36mtrain\u001b[0;34m(params, dtrain, num_boost_round, evals, obj, feval, maximize, early_stopping_rounds, evals_result, verbose_eval, xgb_model, callbacks, custom_metric)\u001b[0m\n\u001b[1;32m    165\u001b[0m \u001b[38;5;28;01mif\u001b[39;00m early_stopping_rounds:\n\u001b[1;32m    166\u001b[0m     callbacks\u001b[38;5;241m.\u001b[39mappend(EarlyStopping(rounds\u001b[38;5;241m=\u001b[39mearly_stopping_rounds, maximize\u001b[38;5;241m=\u001b[39mmaximize))\n\u001b[0;32m--> 167\u001b[0m cb_container \u001b[38;5;241m=\u001b[39m \u001b[43mCallbackContainer\u001b[49m\u001b[43m(\u001b[49m\n\u001b[1;32m    168\u001b[0m \u001b[43m    \u001b[49m\u001b[43mcallbacks\u001b[49m\u001b[43m,\u001b[49m\n\u001b[1;32m    169\u001b[0m \u001b[43m    \u001b[49m\u001b[43mmetric\u001b[49m\u001b[38;5;241;43m=\u001b[39;49m\u001b[43mmetric_fn\u001b[49m\u001b[43m,\u001b[49m\n\u001b[1;32m    170\u001b[0m \u001b[43m    \u001b[49m\u001b[38;5;66;43;03m# For old `feval` parameter, the behavior is unchanged.  For the new\u001b[39;49;00m\n\u001b[1;32m    171\u001b[0m \u001b[43m    \u001b[49m\u001b[38;5;66;43;03m# `custom_metric`, it will receive proper prediction result when custom objective\u001b[39;49;00m\n\u001b[1;32m    172\u001b[0m \u001b[43m    \u001b[49m\u001b[38;5;66;43;03m# is not used.\u001b[39;49;00m\n\u001b[1;32m    173\u001b[0m \u001b[43m    \u001b[49m\u001b[43moutput_margin\u001b[49m\u001b[38;5;241;43m=\u001b[39;49m\u001b[38;5;28;43mcallable\u001b[39;49m\u001b[43m(\u001b[49m\u001b[43mobj\u001b[49m\u001b[43m)\u001b[49m\u001b[43m \u001b[49m\u001b[38;5;129;43;01mor\u001b[39;49;00m\u001b[43m \u001b[49m\u001b[43mmetric_fn\u001b[49m\u001b[43m \u001b[49m\u001b[38;5;129;43;01mis\u001b[39;49;00m\u001b[43m \u001b[49m\u001b[43mfeval\u001b[49m\u001b[43m,\u001b[49m\n\u001b[1;32m    174\u001b[0m \u001b[43m\u001b[49m\u001b[43m)\u001b[49m\n\u001b[1;32m    176\u001b[0m bst \u001b[38;5;241m=\u001b[39m cb_container\u001b[38;5;241m.\u001b[39mbefore_training(bst)\n\u001b[1;32m    178\u001b[0m \u001b[38;5;28;01mfor\u001b[39;00m i \u001b[38;5;129;01min\u001b[39;00m \u001b[38;5;28mrange\u001b[39m(start_iteration, num_boost_round):\n",
      "File \u001b[0;32m/opt/homebrew/lib/python3.11/site-packages/xgboost/callback.py:139\u001b[0m, in \u001b[0;36mCallbackContainer.__init__\u001b[0;34m(self, callbacks, metric, output_margin, is_cv)\u001b[0m\n\u001b[1;32m    137\u001b[0m \u001b[38;5;28;01mfor\u001b[39;00m cb \u001b[38;5;129;01min\u001b[39;00m callbacks:\n\u001b[1;32m    138\u001b[0m     \u001b[38;5;28;01mif\u001b[39;00m \u001b[38;5;129;01mnot\u001b[39;00m \u001b[38;5;28misinstance\u001b[39m(cb, TrainingCallback):\n\u001b[0;32m--> 139\u001b[0m         \u001b[38;5;28;01mraise\u001b[39;00m \u001b[38;5;167;01mTypeError\u001b[39;00m(\u001b[38;5;124m\"\u001b[39m\u001b[38;5;124mcallback must be an instance of `TrainingCallback`.\u001b[39m\u001b[38;5;124m\"\u001b[39m)\n\u001b[1;32m    141\u001b[0m msg \u001b[38;5;241m=\u001b[39m (\n\u001b[1;32m    142\u001b[0m     \u001b[38;5;124m\"\u001b[39m\u001b[38;5;124mmetric must be callable object for monitoring.  For builtin metrics\u001b[39m\u001b[38;5;124m\"\u001b[39m\n\u001b[1;32m    143\u001b[0m     \u001b[38;5;124m\"\u001b[39m\u001b[38;5;124m, passing them in training parameter invokes monitor automatically.\u001b[39m\u001b[38;5;124m\"\u001b[39m\n\u001b[1;32m    144\u001b[0m )\n\u001b[1;32m    145\u001b[0m \u001b[38;5;28;01mif\u001b[39;00m metric \u001b[38;5;129;01mis\u001b[39;00m \u001b[38;5;129;01mnot\u001b[39;00m \u001b[38;5;28;01mNone\u001b[39;00m \u001b[38;5;129;01mand\u001b[39;00m \u001b[38;5;129;01mnot\u001b[39;00m \u001b[38;5;28mcallable\u001b[39m(metric):\n",
      "\u001b[0;31mTypeError\u001b[0m: callback must be an instance of `TrainingCallback`."
     ]
    }
   ],
   "source": [
    "log_file = 'learn_auto_sche.log'\n",
    "tun_option = auto_scheduler.TuningOptions(\n",
    "    num_measure_trials=200,\n",
    "    runner=auto_scheduler.LocalRunner(repeat=1, enable_cpu_cache_flush=True),\n",
    "    measure_callbacks=[auto_scheduler.RecordToFile(log_file)],\n",
    ")\n",
    "\n",
    "tunner.tune(tun_option)"
   ]
  },
  {
   "cell_type": "code",
   "execution_count": null,
   "metadata": {},
   "outputs": [],
   "source": []
  }
 ],
 "metadata": {
  "kernelspec": {
   "display_name": "Python 3",
   "language": "python",
   "name": "python3"
  },
  "language_info": {
   "codemirror_mode": {
    "name": "ipython",
    "version": 3
   },
   "file_extension": ".py",
   "mimetype": "text/x-python",
   "name": "python",
   "nbconvert_exporter": "python",
   "pygments_lexer": "ipython3",
   "version": "3.11.5"
  }
 },
 "nbformat": 4,
 "nbformat_minor": 2
}
